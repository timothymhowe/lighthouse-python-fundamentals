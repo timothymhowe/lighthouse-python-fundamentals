{
 "cells": [
  {
   "cell_type": "code",
   "execution_count": 1,
   "metadata": {},
   "outputs": [
    {
     "name": "stdout",
     "output_type": "stream",
     "text": [
      "Hello Thomas, it's very nice to meet you!\n",
      "Your total bill is: \n",
      "22.8\n",
      "Vancouver looks like a cool place to go!!\n",
      "Montreal looks like a cool place to go!!\n",
      "Calgary looks like a cool place to go!!\n",
      "Toronto looks like a cool place to go!!\n"
     ]
    }
   ],
   "source": [
    "name = \"Thomas\"\n",
    "print(\"Hello \" + name + \", it's very nice to meet you!\")\n",
    "\n",
    "taxRate = 0.14\n",
    "subtotal = 20\n",
    "tax = subtotal * taxRate\n",
    "total = subtotal + tax\n",
    "print(\"Your total bill is: \")\n",
    "print(total)\n",
    "\n",
    "travelDestinations = [\"Vancouver\",\"Montreal\",\"Calgary\",\"Toronto\"]\n",
    "for city in travelDestinations:\n",
    "    print(city + \" looks like a cool place to go!!\")\n"
   ]
  },
  {
   "cell_type": "code",
   "execution_count": 4,
   "metadata": {},
   "outputs": [
    {
     "name": "stdin",
     "output_type": "stream",
     "text": [
      "What is your name? Tim\n"
     ]
    },
    {
     "name": "stdout",
     "output_type": "stream",
     "text": [
      "Hello Tim, it's very nice to meet you!\n"
     ]
    }
   ],
   "source": [
    "name = input(\"What is your name?\")\n",
    "print(\"Hello \" + name + \", it's very nice to meet you!\")\n"
   ]
  },
  {
   "cell_type": "code",
   "execution_count": 5,
   "metadata": {},
   "outputs": [
    {
     "name": "stdin",
     "output_type": "stream",
     "text": [
      " 17\n"
     ]
    },
    {
     "name": "stdout",
     "output_type": "stream",
     "text": [
      "12\n"
     ]
    }
   ],
   "source": [
    "anyNum = int(input())\n",
    "anyNum -=5\n",
    "print(anyNum)"
   ]
  },
  {
   "cell_type": "code",
   "execution_count": 6,
   "metadata": {},
   "outputs": [
    {
     "name": "stdout",
     "output_type": "stream",
     "text": [
      "15\n",
      "25.0\n"
     ]
    }
   ],
   "source": [
    "tripleUp = 5\n",
    "\n",
    "tripleUp *= 3\n",
    "\n",
    "print(tripleUp) \n",
    "\n",
    "quarterValue = 100\n",
    "\n",
    "quarterValue /=  4\n",
    "\n",
    "print(quarterValue)"
   ]
  },
  {
   "cell_type": "code",
   "execution_count": 4,
   "metadata": {},
   "outputs": [
    {
     "name": "stdin",
     "output_type": "stream",
     "text": [
      " 1\n",
      " 2\n",
      " 3\n"
     ]
    },
    {
     "name": "stdout",
     "output_type": "stream",
     "text": [
      "6\n"
     ]
    }
   ],
   "source": [
    "sum = 0\n",
    "num = int(input())\n",
    "sum+= num\n",
    "num = int(input())\n",
    "sum += num\n",
    "num = int(input())\n",
    "sum += num\n",
    "print(sum)"
   ]
  },
  {
   "cell_type": "code",
   "execution_count": null,
   "metadata": {},
   "outputs": [],
   "source": []
  }
 ],
 "metadata": {
  "kernelspec": {
   "display_name": "Python 3",
   "language": "python",
   "name": "python3"
  },
  "language_info": {
   "codemirror_mode": {
    "name": "ipython",
    "version": 3
   },
   "file_extension": ".py",
   "mimetype": "text/x-python",
   "name": "python",
   "nbconvert_exporter": "python",
   "pygments_lexer": "ipython3",
   "version": "3.8.5"
  }
 },
 "nbformat": 4,
 "nbformat_minor": 4
}
